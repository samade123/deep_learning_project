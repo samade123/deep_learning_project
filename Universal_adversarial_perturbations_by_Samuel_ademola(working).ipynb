{
  "nbformat": 4,
  "nbformat_minor": 0,
  "metadata": {
    "colab": {
      "name": "Universal adversarial perturbations by Samuel ademola.ipynb",
      "provenance": [],
      "collapsed_sections": [],
      "toc_visible": true,
      "authorship_tag": "ABX9TyM5+Gt4WgSpBLNF4Xj03YCm",
      "include_colab_link": true
    },
    "kernelspec": {
      "name": "python3",
      "display_name": "Python 3"
    }
  },
  "cells": [
    {
      "cell_type": "markdown",
      "metadata": {
        "id": "view-in-github",
        "colab_type": "text"
      },
      "source": [
        "<a href=\"https://colab.research.google.com/github/samade123/deep_learning_project/blob/main/Universal_adversarial_perturbations_by_Samuel_ademola(working).ipynb\" target=\"_parent\"><img src=\"https://colab.research.google.com/assets/colab-badge.svg\" alt=\"Open In Colab\"/></a>"
      ]
    },
    {
      "cell_type": "code",
      "metadata": {
        "id": "y8t_EdO8jEHz",
        "colab": {
          "base_uri": "https://localhost:8080/",
          "height": 798
        },
        "outputId": "b82e8acc-8207-4566-d3c3-e3a1f9738418"
      },
      "source": [
        "!pip install git+https://github.com/tensorflow/cleverhans.git#egg=cleverhans\n",
        "# !pip install progress\n",
        "# load tqdm\n",
        "!pip install --force https://github.com/chengs/tqdm/archive/colab.zip\n",
        "\n",
        "%tensorflow_version 2.x  # this line is not required unless you are in a notebook\n",
        "# TensorFlow and tf.keras\n",
        "import tensorflow as tf\n",
        "from tensorflow import keras\n",
        "import cleverhans\n",
        "keras.__version__\n",
        "# Helper libraries\n",
        "import numpy as np\n",
        "import matplotlib.pyplot as plt\n",
        "import pandas\n",
        "# from progress.bar import Bar\n",
        "from tqdm import tqdm_notebook as tqdm\n",
        "\n",
        "\n",
        "print(\"\\nTensorflow Version: \" + tf.__version__)\n",
        "print(\"Cleverhans Version: \" + cleverhans.__version__)\n",
        "print(\"GPU Available: \", tf.test.is_gpu_available())"
      ],
      "execution_count": 14,
      "outputs": [
        {
          "output_type": "stream",
          "text": [
            "Requirement already satisfied: cleverhans from git+https://github.com/tensorflow/cleverhans.git#egg=cleverhans in /usr/local/lib/python3.7/dist-packages (4.0.0)\n",
            "Requirement already satisfied: pycodestyle in /usr/local/lib/python3.7/dist-packages (from cleverhans) (2.7.0)\n",
            "Requirement already satisfied: matplotlib in /usr/local/lib/python3.7/dist-packages (from cleverhans) (3.2.2)\n",
            "Requirement already satisfied: easydict in /usr/local/lib/python3.7/dist-packages (from cleverhans) (1.9)\n",
            "Requirement already satisfied: joblib in /usr/local/lib/python3.7/dist-packages (from cleverhans) (1.0.1)\n",
            "Requirement already satisfied: nose in /usr/local/lib/python3.7/dist-packages (from cleverhans) (1.3.7)\n",
            "Requirement already satisfied: absl-py in /usr/local/lib/python3.7/dist-packages (from cleverhans) (0.12.0)\n",
            "Requirement already satisfied: six in /usr/local/lib/python3.7/dist-packages (from cleverhans) (1.15.0)\n",
            "Requirement already satisfied: numpy in /usr/local/lib/python3.7/dist-packages (from cleverhans) (1.19.5)\n",
            "Requirement already satisfied: tensorflow-probability in /usr/local/lib/python3.7/dist-packages (from cleverhans) (0.12.1)\n",
            "Requirement already satisfied: scipy in /usr/local/lib/python3.7/dist-packages (from cleverhans) (1.4.1)\n",
            "Requirement already satisfied: mnist in /usr/local/lib/python3.7/dist-packages (from cleverhans) (0.2.2)\n",
            "Requirement already satisfied: pyparsing!=2.0.4,!=2.1.2,!=2.1.6,>=2.0.1 in /usr/local/lib/python3.7/dist-packages (from matplotlib->cleverhans) (2.4.7)\n",
            "Requirement already satisfied: kiwisolver>=1.0.1 in /usr/local/lib/python3.7/dist-packages (from matplotlib->cleverhans) (1.3.1)\n",
            "Requirement already satisfied: python-dateutil>=2.1 in /usr/local/lib/python3.7/dist-packages (from matplotlib->cleverhans) (2.8.1)\n",
            "Requirement already satisfied: cycler>=0.10 in /usr/local/lib/python3.7/dist-packages (from matplotlib->cleverhans) (0.10.0)\n",
            "Requirement already satisfied: gast>=0.3.2 in /usr/local/lib/python3.7/dist-packages (from tensorflow-probability->cleverhans) (0.3.3)\n",
            "Requirement already satisfied: cloudpickle>=1.3 in /usr/local/lib/python3.7/dist-packages (from tensorflow-probability->cleverhans) (1.3.0)\n",
            "Requirement already satisfied: decorator in /usr/local/lib/python3.7/dist-packages (from tensorflow-probability->cleverhans) (4.4.2)\n",
            "Requirement already satisfied: dm-tree in /usr/local/lib/python3.7/dist-packages (from tensorflow-probability->cleverhans) (0.1.6)\n",
            "Collecting https://github.com/chengs/tqdm/archive/colab.zip\n",
            "  Using cached https://github.com/chengs/tqdm/archive/colab.zip\n",
            "Building wheels for collected packages: tqdm\n",
            "  Building wheel for tqdm (setup.py) ... \u001b[?25l\u001b[?25hdone\n",
            "  Created wheel for tqdm: filename=tqdm-4.28.1-py2.py3-none-any.whl size=47868 sha256=cf1b4f62fc663dc0deb79d2c4568114f90912b3f268f579e7070b36427c14024\n",
            "  Stored in directory: /tmp/pip-ephem-wheel-cache-vk8u68nn/wheels/41/18/ee/d5dd158441b27965855b1bbae03fa2d8a91fe645c01b419896\n",
            "Successfully built tqdm\n",
            "\u001b[31mERROR: spacy 2.2.4 has requirement tqdm<5.0.0,>=4.38.0, but you'll have tqdm 4.28.1 which is incompatible.\u001b[0m\n",
            "\u001b[31mERROR: fbprophet 0.7.1 has requirement tqdm>=4.36.1, but you'll have tqdm 4.28.1 which is incompatible.\u001b[0m\n",
            "Installing collected packages: tqdm\n",
            "  Found existing installation: tqdm 4.28.1\n",
            "    Uninstalling tqdm-4.28.1:\n",
            "      Successfully uninstalled tqdm-4.28.1\n",
            "Successfully installed tqdm-4.28.1\n"
          ],
          "name": "stdout"
        },
        {
          "output_type": "display_data",
          "data": {
            "application/vnd.colab-display-data+json": {
              "pip_warning": {
                "packages": [
                  "tqdm"
                ]
              }
            }
          },
          "metadata": {
            "tags": []
          }
        },
        {
          "output_type": "stream",
          "text": [
            "`%tensorflow_version` only switches the major version: 1.x or 2.x.\n",
            "You set: `2.x  # this line is not required unless you are in a notebook`. This will be interpreted as: `2.x`.\n",
            "\n",
            "\n",
            "TensorFlow is already loaded. Please restart the runtime to change versions.\n",
            "\n",
            "Tensorflow Version: 2.4.1\n",
            "Cleverhans Version: 4.0.0-dda3ed9309fe3cd6d5b746c5c9c440d8\n",
            "GPU Available:  False\n"
          ],
          "name": "stdout"
        }
      ]
    },
    {
      "cell_type": "code",
      "metadata": {
        "id": "5NDMO_7kS6Do"
      },
      "source": [
        "# Recreate the exact same model, including its weights and the optimizer\n",
        "new_model = tf.keras.models.load_model('conv_model.h5')\n",
        "\n",
        "# Show the model architecture\n",
        "# new_model.summary()"
      ],
      "execution_count": 15,
      "outputs": []
    },
    {
      "cell_type": "code",
      "metadata": {
        "id": "9b4-ID4aUjXM"
      },
      "source": [
        "fashion_mnist = tf.keras.datasets.fashion_mnist  # load dataset\n",
        "\n",
        "(conv_train_images, conv_train_labels), (conv_test_images, conv_test_labels) = fashion_mnist.load_data()  # split into tetsing and training\n",
        "(train_images, train_labels), (test_images, test_labels) = fashion_mnist.load_data()  # split into tetsing and training\n",
        "\n",
        "\n",
        "conv_train_images = conv_train_images.reshape((60000, 28, 28, 1))\n",
        "conv_train_images = conv_train_images.astype('float32') / 255\n",
        "\n",
        "conv_test_images = conv_test_images.reshape((10000, 28, 28, 1))\n",
        "conv_test_images = conv_test_images.astype('float32') / 255"
      ],
      "execution_count": 16,
      "outputs": []
    },
    {
      "cell_type": "code",
      "metadata": {
        "id": "3cV_tavxwOR6"
      },
      "source": [
        "\n",
        "def show_image(img, label, guess):\n",
        "  plt.figure()\n",
        "  plt.imshow(img, cmap=plt.cm.binary)\n",
        "  plt.title(\"Expected: \" + label)\n",
        "  plt.xlabel(\"Guess: \" + guess)\n",
        "  plt.colorbar()\n",
        "  plt.grid(False)\n",
        "  plt.show()\n",
        "\n",
        "def predict(model, image, correct_label, num):\n",
        "  class_names = ['T-shirt/top', 'Trouser', 'Pullover', 'Dress', 'Coat',\n",
        "               'Sandal', 'Shirt', 'Sneaker', 'Bag', 'Ankle boot']\n",
        "  prediction = model.predict(np.array([image]))\n",
        "  predicted_class = class_names[np.argmax(prediction)]\n",
        "\n",
        "#   print(prediction, predicted_class)\n",
        "  image = test_images[num]\n",
        "  show_image(image, class_names[correct_label], predicted_class)\n",
        "\n",
        "\n",
        "def get_number():\n",
        "  while True:\n",
        "    num = input(\"Pick a number: \")\n",
        "    if num.isdigit():\n",
        "      num = int(num)\n",
        "      if 0 <= num <= 1000:\n",
        "        return int(num)\n",
        "    else:\n",
        "      print(\"Try again...\")\n",
        "\n",
        "def select_number(num=0):\n",
        "    return_val = False\n",
        "    if num == 0:\n",
        "        num = get_number()\n",
        "        return_val = True\n",
        "    image = conv_test_images[num]\n",
        "    label = conv_test_labels[num]\n",
        "    predict(new_model, image, label, num)\n",
        "    if return_val:\n",
        "        return num\n",
        "\n",
        "def show_convoluted_image(original_image, original_label, guess):\n",
        "    #Show the image\n",
        "    class_names = ['T-shirt/top', 'Trouser', 'Pullover', 'Dress', 'Coat',\n",
        "               'Sandal', 'Shirt', 'Sneaker', 'Bag', 'Ankle boot']\n",
        "    plt.figure()\n",
        "    plt.grid(False)\n",
        "    original_label = class_names[original_label]\n",
        "    guess = class_names[guess]\n",
        "\n",
        "    plt.imshow(np.reshape(original_image, (28,28)), cmap=plt.cm.binary)\n",
        "    plt.title(\"Model Prediction: {}\".format(guess))\n",
        "    plt.xlabel(\"Original Label: {}\".format(original_label))\n",
        "\n",
        "\n",
        "    plt.show()        "
      ],
      "execution_count": 17,
      "outputs": []
    },
    {
      "cell_type": "code",
      "metadata": {
        "id": "MEY-8X34OdM5"
      },
      "source": [
        "# select_number()"
      ],
      "execution_count": 18,
      "outputs": []
    },
    {
      "cell_type": "markdown",
      "metadata": {
        "id": "8_Ehc7tas5YS"
      },
      "source": [
        "#Part 2: The Fast Gradient Method (FGM)"
      ]
    },
    {
      "cell_type": "code",
      "metadata": {
        "id": "LgZhvgzbAuU8"
      },
      "source": [
        "# Import the attack\n",
        "from cleverhans.tf2.attacks.fast_gradient_method import fast_gradient_method\n",
        "\n",
        "#The attack requires the model to ouput the logits\n",
        "logits_model = tf.keras.Model(new_model.input,new_model.layers[-1].output)"
      ],
      "execution_count": 19,
      "outputs": []
    },
    {
      "cell_type": "code",
      "metadata": {
        "id": "giyjFKREs-nx"
      },
      "source": [
        "def fsgm(index, original_image,  epsilon = 0.03, verbose_log = False):\n",
        "    # original_image = conv_train_images[index]\n",
        "    original_image = tf.convert_to_tensor(original_image.reshape((28,28,1))) #The .reshape just gives it the proper form to input into the model, a batch of 1 a.k.a a tensor\n",
        "    original_image = np.expand_dims(original_image, axis=0)\n",
        "\n",
        "    original_label = train_labels[index]\n",
        "    original_label = np.reshape(original_label, (1,)).astype('int64') # Give label proper shape and type for cleverhans\n",
        "    if verbose_log == True:\n",
        "        select_number(index)\n",
        "        show_convoluted_image(original_image, original_label[0], original_label[0])\n",
        "    \n",
        "\n",
        "    adv_example_untargeted_label = fast_gradient_method(logits_model, original_image, epsilon, np.inf, targeted=False)\n",
        "\n",
        "    adv_example_untargeted_label_pred = new_model.predict(adv_example_untargeted_label)\n",
        "\n",
        "    return adv_example_untargeted_label, adv_example_untargeted_label_pred\n",
        "\n",
        "def get_pertubation(original_image, adv_example_untargeted_label):\n",
        "    pertubation = original_image - adv_example_untargeted_label\n",
        "    return pertubation\n",
        "\n",
        "def get_max_prediction(model_predicition):\n",
        "    return model_predicition[0][np.argmax(model_predicition)]   \n",
        "\n",
        "def is_new_iamge_fooled(adv_prediction, prediction_old, fooling_rate, verbose_log = False):\n",
        "    if verbose_log == True:\n",
        "        print(\"fooling_rate\", fooling_rate)\n",
        "        print(\"adverse Image prediction: \" , np.argmax(adv_prediction) , \"val: \", np.max(adv_prediction)  ,\", origiinal Image prediction: \", np.argmax(prediction_old), \"val: \", np.max(prediction_old),  \", prediction accuracy greater than fooling rate: \", get_max_prediction(adv_prediction) > fooling_rate )\n",
        "        class_names = ['T-shirt/top', 'Trouser', 'Pullover', 'Dress', 'Coat',\n",
        "               'Sandal', 'Shirt', 'Sneaker', 'Bag', 'Ankle boot']\n",
        "        # table = pandas.DataFrame(adv_prediction.transpose(), class_names, ['old'])\n",
        "        # prediction_old = new_model.predict(original_image)\n",
        "        new_data = np.concatenate((adv_prediction, prediction_old))\n",
        "        table = pandas.DataFrame(new_data.transpose(), class_names, ['new', 'old'])\n",
        "        print(table)\n",
        "        print(np.max(adv_prediction/np.sum(adv_prediction))*100)\n",
        "        print(\"are max index the same\", (np.argmax(adv_prediction) != np.argmax(prediction_old), \", higher than foolng rte\", get_max_prediction(adv_prediction) > fooling_rate ))\n",
        "        print(\"is the adverse Image foolwortgy: \", (np.argmax(adv_prediction) != np.argmax(prediction_old)) and (get_max_prediction(adv_prediction) > fooling_rate ))\n",
        "        table.to_csv('data.csv')\n",
        "    return ((np.argmax(adv_prediction) != np.argmax(prediction_old)) and (get_max_prediction(adv_prediction) > fooling_rate ))  \n",
        "\n",
        "def minimum_fsgm(fooling_rate, original_image, random_index, verbose_log=False):\n",
        "    prediction_old = new_model.predict(original_image)\n",
        "\n",
        "    a_adv_pred = prediction_old\n",
        "    x_adv = original_image\n",
        "    # x_adv, a_adv_pred = fsgm(random_index)\n",
        "    itr = 2\n",
        "    max_attempts = 20\n",
        "    epislon_steps = 0.01\n",
        "    # current_fooling_rate = 0\n",
        "    # while \n",
        "\n",
        "    # if first_image == True:\n",
        "        # while ((np.argmax(a_adv_pred) == np.argmax(prediction_old)) or (get_max_prediction(a_adv_pred) < fooling_rate )):\n",
        "    status = True\n",
        "    if verbose_log:\n",
        "        print(\"does while statement run\", is_new_iamge_fooled(a_adv_pred, prediction_old, fooling_rate, False))\n",
        "    while is_new_iamge_fooled(a_adv_pred, prediction_old, fooling_rate, False) == False:\n",
        "        itr+= 1\n",
        "        if verbose_log:\n",
        "            print(itr , epislon_steps*itr, is_new_iamge_fooled(a_adv_pred, prediction_old, fooling_rate))\n",
        "        x_adv, a_adv_pred = fsgm(random_index, original_image, epislon_steps*itr)\n",
        "        if itr > max_attempts: \n",
        "            status = False\n",
        "            break\n",
        "\n",
        "    pertubation = get_pertubation(original_image, x_adv)\n",
        "    return pertubation, status\n",
        "\n",
        "\n",
        "def create_universerial_pertubations(loops = 10, fooling_rate=0.5, verbose_log =False):\n",
        "    image_index = 0\n",
        "    # fooling_rate = 0.9\n",
        "    pbar = tqdm(total=loops)\n",
        "\n",
        "    while image_index < loops:\n",
        "        random_index = np.random.randint(train_images.shape[0])\n",
        "        original_image = conv_train_images[random_index]\n",
        "        original_image = tf.convert_to_tensor(original_image.reshape((28,28,1))) #The .reshape just gives it the proper form to input into the model, a batch of 1 a.k.a a tensor\n",
        "        original_image = np.expand_dims(original_image, axis=0)\n",
        "        # original_label = class_names[train_labels[random_index][0]]\n",
        "\n",
        "        prediction_old = new_model.predict(original_image)\n",
        "        # print(\"first_image\")\n",
        "        first_image = (image_index == 0)\n",
        "        # current_pertubation = minimum_fsgm(fooling_rate, first_image)\n",
        "        if first_image == True:\n",
        "            current_pertubation, status = minimum_fsgm(fooling_rate, original_image, random_index) #fix minimum fgsm function\n",
        "            show_convoluted_image(current_pertubation, original_label[0], original_label[0])\n",
        "\n",
        "            universal_pertubation = current_pertubation\n",
        "        else:\n",
        "            pertubated_img = original_image + universal_pertubation\n",
        "            prediction_old = new_model.predict(original_image)\n",
        "            predicion_pertubated = new_model.predict(pertubated_img)\n",
        "            if is_new_iamge_fooled(predicion_pertubated, prediction_old, fooling_rate, verbose_log):\n",
        "                # image_index+= 1\n",
        "                if verbose_log:\n",
        "                    print(\"image is fooled\", image_index)\n",
        "                # loops+= 1\n",
        "                \n",
        "            else: \n",
        "                current_pertubation, status = minimum_fsgm(fooling_rate, original_image, random_index)\n",
        "                if verbose_log:\n",
        "                    print(\"image is being pertubated\", image_index)\n",
        "                # attempt 1 - queit but not adverserial\n",
        "                # difference_pert =universal_pertubation - current_pertubation\n",
        "                # universal_pertubation = difference_pert - universal_pertubation\n",
        "\n",
        "                # attempt 2 - works but the pertubation is not qiuet\n",
        "                # difference_pert = np.abs(current_pertubation - universal_pertubation)\n",
        "                # universal_pertubation = universal_pertubation + difference_pert\n",
        "\n",
        "                # attempt 3 - works but the pertubation is not qiuet\n",
        "                # difference_pert = np.abs(universal_pertubation - current_pertubation)\n",
        "                # universal_pertubation = universal_pertubation + difference_pert\n",
        "\n",
        "                # difference_pert =  current_pertubation - universal_pertubation\n",
        "                # universal_pertubation = universal_pertubation + difference_pert\n",
        "\n",
        "                # attempt 4 - not yet tested\n",
        "                # difference_pert = np.abs(universal_pertubation - current_pertubation)\n",
        "                # universal_pertubation = np.abs(difference_pert - universal_pertubation)\n",
        "\n",
        "                 # attempt 4 - not yet tested\n",
        "                # difference_pert = universal_pertubation - current_pertubation\n",
        "                # universal_pertubation = np.abs(universal_pertubation - difference_pert)\n",
        "\n",
        "                # universal_pertubation = universal_pertubation + current_pertubation\n",
        "               \n",
        "                universal_pertubation =np.abs(universal_pertubation - current_pertubation)\n",
        "\n",
        "                # universal_pertubation =np.abs(current_pertubation - universal_pertubation)\n",
        "\n",
        "                if verbose_log:\n",
        "                    # show_convoluted_image(difference_pert, original_label[0], original_label[0])\n",
        "                    # show_convoluted_image(pertubated_img, original_label[0], original_label[0])\n",
        "                    show_convoluted_image(current_pertubation, original_label[0], original_label[0])\n",
        "                    show_convoluted_image(universal_pertubation, original_label[0], original_label[0])\n",
        "\n",
        "                # image_index+= 1\n",
        "\n",
        "\n",
        "        if status == True:\n",
        "            image_index+= 1\n",
        "            pbar.update(1)\n",
        "    pbar.close()\n",
        "    # if verbose_log:\n",
        "    show_convoluted_image(universal_pertubation, original_label[0], original_label[0])\n",
        "    return universal_pertubation"
      ],
      "execution_count": 20,
      "outputs": []
    },
    {
      "cell_type": "code",
      "metadata": {
        "id": "wA7_JKrm1wsm",
        "colab": {
          "base_uri": "https://localhost:8080/",
          "height": 295
        },
        "outputId": "e262d135-4493-4225-8493-a24a07d45c7e"
      },
      "source": [
        "random_index = np.random.randint(train_images.shape[0])\n",
        "\n",
        "original_image = conv_train_images[random_index]\n",
        "original_image = tf.convert_to_tensor(original_image.reshape((28,28,1))) #The .reshape just gives it the proper form to input into the model, a batch of 1 a.k.a a tensor\n",
        "original_image = np.expand_dims(original_image, axis=0)\n",
        "prediction_old = new_model.predict(original_image)\n",
        "original_label = train_labels[random_index]\n",
        "original_label = np.reshape(original_label, (1,)).astype('int64') # Give label proper shape and type for cleverhans\n",
        "\n",
        "# #Show the image\n",
        "# plt.figure()\n",
        "# plt.grid(False)\n",
        "\n",
        "# plt.imshow(np.reshape(original_image, (28,28)))\n",
        "# plt.title(\"Label: {}\".format(original_label[0]))\n",
        "\n",
        "# plt.show()\n",
        "# select_number(random_index)\n",
        "show_convoluted_image(original_image, original_label[0], original_label[0])"
      ],
      "execution_count": 21,
      "outputs": [
        {
          "output_type": "display_data",
          "data": {
            "image/png": "[encoded data removed]",
            "text/plain": [
              "<Figure size 432x288 with 1 Axes>"
            ]
          },
          "metadata": {
            "tags": [],
            "needs_background": "light"
          }
        }
      ]
    },
    {
      "cell_type": "markdown",
      "metadata": {
        "id": "rz8QBZJ2-DO5"
      },
      "source": [
        "### Non-targeted FGSM attack\n"
      ]
    },
    {
      "cell_type": "code",
      "metadata": {
        "id": "6LSemuYWrZWz",
        "colab": {
          "base_uri": "https://localhost:8080/",
          "height": 295
        },
        "outputId": "1d96e4fb-6010-4d92-b873-f3afc64d729f"
      },
      "source": [
        "epsilon = 0.05\n",
        "\n",
        "adv_example_untargeted_label = fast_gradient_method(logits_model, original_image, epsilon, np.inf, targeted=False)\n",
        "\n",
        "adv_example_untargeted_label_pred = new_model.predict(adv_example_untargeted_label)\n",
        "\n",
        "# #Show the image\n",
        "# plt.figure()\n",
        "# plt.grid(False)\n",
        "\n",
        "# plt.imshow(np.reshape(adv_example_untargeted_label, (28,28)))\n",
        "# plt.title(\"Model Prediction: {}\".format(np.argmax(adv_example_untargeted_label_pred)))\n",
        "# plt.xlabel(\"Original Label: {}\".format(original_label[0]))\n",
        "\n",
        "# plt.show()\n",
        "# print(\"Prediction\", adv_example_untargeted_label_pred)\n",
        "show_convoluted_image(adv_example_untargeted_label, original_label[0], np.argmax(adv_example_untargeted_label_pred))"
      ],
      "execution_count": 22,
      "outputs": [
        {
          "output_type": "display_data",
          "data": {
            "image/png": "[encoded data removed]",
            "text/plain": [
              "<Figure size 432x288 with 1 Axes>"
            ]
          },
          "metadata": {
            "tags": [],
            "needs_background": "light"
          }
        }
      ]
    },
    {
      "cell_type": "code",
      "metadata": {
        "colab": {
          "base_uri": "https://localhost:8080/",
          "height": 295
        },
        "id": "As2izllk0sIO",
        "outputId": "8836e774-6174-4528-9e96-8db6d710539b"
      },
      "source": [
        "pertubation = original_image - adv_example_untargeted_label\n",
        "# #Show the image\n",
        "# plt.figure()\n",
        "# plt.grid(False)\n",
        "\n",
        "# plt.imshow(np.reshape(pertubation, (28,28)))\n",
        "# plt.title(\"Model Prediction: {}\".format(np.argmax(adv_example_untargeted_label_pred)))\n",
        "# plt.xlabel(\"Original Label: {}\".format(original_label[0]))\n",
        "\n",
        "# plt.show()\n",
        "show_convoluted_image(pertubation, original_label[0], np.argmax(adv_example_untargeted_label_pred))\n"
      ],
      "execution_count": 23,
      "outputs": [
        {
          "output_type": "display_data",
          "data": {
            "image/png": "[encoded data removed]",
            "text/plain": [
              "<Figure size 432x288 with 1 Axes>"
            ]
          },
          "metadata": {
            "tags": [],
            "needs_background": "light"
          }
        }
      ]
    },
    {
      "cell_type": "code",
      "metadata": {
        "id": "B00oKIK9gIF-"
      },
      "source": [
        "# is_new_iamge_fooled(adv_example_untargeted_label_pred, prediction_old, 0.6, True) "
      ],
      "execution_count": 24,
      "outputs": []
    },
    {
      "cell_type": "code",
      "metadata": {
        "id": "3AitPJwZ4c6y",
        "colab": {
          "base_uri": "https://localhost:8080/",
          "height": 897
        },
        "outputId": "03d61c7c-4e94-490e-a33e-5e4e3ebc0bf6"
      },
      "source": [
        " y, r = minimum_fsgm(0.8, original_image, random_index, True)\n",
        " print(r)\n",
        " pertubed = original_image + y\n",
        "show_convoluted_image(y, original_label[0], np.argmax(adv_example_untargeted_label_pred))\n",
        "show_convoluted_image(pertubed, original_label[0], np.argmax(adv_example_untargeted_label_pred))\n",
        "pertubed_min_pred = new_model.predict(pertubed)\n",
        "\n",
        "\n",
        "is_new_iamge_fooled(pertubed_min_pred, prediction_old, 0.4, True) "
      ],
      "execution_count": 25,
      "outputs": [
        {
          "output_type": "stream",
          "text": [
            "does while statement run False\n",
            "3 0.03 False\n",
            "True\n"
          ],
          "name": "stdout"
        },
        {
          "output_type": "display_data",
          "data": {
            "image/png": "[encoded data removed]",
            "text/plain": [
              "<Figure size 432x288 with 1 Axes>"
            ]
          },
          "metadata": {
            "tags": [],
            "needs_background": "light"
          }
        },
        {
          "output_type": "display_data",
          "data": {
            "image/png": "[encoded data removed]",
            "text/plain": [
              "<Figure size 432x288 with 1 Axes>"
            ]
          },
          "metadata": {
            "tags": [],
            "needs_background": "light"
          }
        },
        {
          "output_type": "stream",
          "text": [
            "fooling_rate 0.4\n",
            "adverse Image prediction:  6 val:  1.0 , origiinal Image prediction:  6 val:  0.99991655 , prediction accuracy greater than fooling rate:  True\n",
            "                      new           old\n",
            "T-shirt/top  4.714607e-10  8.240886e-05\n",
            "Trouser      2.307808e-26  6.513610e-16\n",
            "Pullover     8.702577e-13  5.517925e-07\n",
            "Dress        4.384785e-10  8.897839e-08\n",
            "Coat         1.266428e-11  1.764444e-07\n",
            "Sandal       2.073907e-17  1.091077e-10\n",
            "Shirt        1.000000e+00  9.999166e-01\n",
            "Sneaker      3.077839e-26  8.042832e-17\n",
            "Bag          8.894605e-13  6.634509e-08\n",
            "Ankle boot   5.972570e-24  4.932453e-16\n",
            "100.0\n",
            "are max index the same (False, ', higher than foolng rte', True)\n",
            "is the adverse Image foolwortgy:  False\n"
          ],
          "name": "stdout"
        },
        {
          "output_type": "execute_result",
          "data": {
            "text/plain": [
              "False"
            ]
          },
          "metadata": {
            "tags": []
          },
          "execution_count": 25
        }
      ]
    },
    {
      "cell_type": "code",
      "metadata": {
        "colab": {
          "base_uri": "https://localhost:8080/",
          "height": 660
        },
        "id": "C6cLe7F7C5yi",
        "outputId": "e859be04-0cc8-414c-ed65-5e95beab267b"
      },
      "source": [
        "universal = create_universerial_pertubations(50, 0.1, False)"
      ],
      "execution_count": 26,
      "outputs": [
        {
          "output_type": "stream",
          "text": [
            "/usr/local/lib/python3.7/dist-packages/tqdm/_tqdm_notebook.py:88: TqdmExperimentalWarning: Detect Google Colab 0.0.1a2 and thus load dummy ipywidgets package. Note that UI is different from that in Jupyter. See https://github.com/tqdm/tqdm/pull/640\n",
            "  \" See https://github.com/tqdm/tqdm/pull/640\".format(colab.__version__), TqdmExperimentalWarning)\n"
          ],
          "name": "stderr"
        },
        {
          "output_type": "display_data",
          "data": {
            "text/html": [
              "<div style=\"display:flex;flex-direction:row;\"><span></span><progress style='margin:2px 4px;' max='50' value='50'></progress>100% 50/50 [00:18&lt;00:00,  1.55it/s]</div>"
            ],
            "text/plain": [
              "<tqdm._fake_ipywidgets.HBox object>"
            ]
          },
          "metadata": {
            "tags": []
          }
        },
        {
          "output_type": "display_data",
          "data": {
            "image/png": "[encoded data removed]",
            "text/plain": [
              "<Figure size 432x288 with 1 Axes>"
            ]
          },
          "metadata": {
            "tags": [],
            "needs_background": "light"
          }
        },
        {
          "output_type": "stream",
          "text": [
            "\n"
          ],
          "name": "stdout"
        },
        {
          "output_type": "display_data",
          "data": {
            "image/png": "[encoded data removed]",
            "text/plain": [
              "<Figure size 432x288 with 1 Axes>"
            ]
          },
          "metadata": {
            "tags": [],
            "needs_background": "light"
          }
        }
      ]
    },
    {
      "cell_type": "code",
      "metadata": {
        "id": "GsbWz087FlqZ",
        "outputId": "b4a99f53-e60b-4640-820b-20340fe6b30d",
        "colab": {
          "base_uri": "https://localhost:8080/",
          "height": 832
        }
      },
      "source": [
        "def test_universal(universal):\n",
        "    random_index = np.random.randint(test_images.shape[0])\n",
        "    original_image = conv_test_images[random_index]\n",
        "    original_image = tf.convert_to_tensor(original_image.reshape((28,28,1))) #The .reshape just gives it the proper form to input into the model, a batch of 1 a.k.a a tensor\n",
        "    original_image = np.expand_dims(original_image, axis=0)\n",
        "    original_label = test_labels[random_index]\n",
        "    original_label = np.reshape(original_label, (1,)).astype('int64') # Give label proper shape and type for cleverhans\n",
        "\n",
        "    new_image = original_image + universal\n",
        "\n",
        "    prediction_old = new_model.predict(original_image)\n",
        "    prediction_new = new_model.predict(new_image)\n",
        "\n",
        "    is_new_iamge_fooled(prediction_new, prediction_old, 0.4, True)\n",
        "    show_convoluted_image(new_image, original_label[0], np.argmax(prediction_new))\n",
        "    show_convoluted_image(original_image, original_label[0], np.argmax(prediction_old))\n",
        "\n",
        "\n",
        "test_universal(universal)\n"
      ],
      "execution_count": 27,
      "outputs": [
        {
          "output_type": "stream",
          "text": [
            "fooling_rate 0.4\n",
            "adverse Image prediction:  3 val:  0.99033886 , origiinal Image prediction:  3 val:  0.9999306 , prediction accuracy greater than fooling rate:  True\n",
            "                      new           old\n",
            "T-shirt/top  5.565261e-03  6.490065e-08\n",
            "Trouser      1.328399e-06  6.890213e-05\n",
            "Pullover     2.873931e-05  1.913752e-08\n",
            "Dress        9.903389e-01  9.999306e-01\n",
            "Coat         6.850250e-06  6.141448e-08\n",
            "Sandal       4.910367e-08  1.852903e-12\n",
            "Shirt        3.557032e-03  3.263001e-07\n",
            "Sneaker      1.342547e-09  8.229294e-14\n",
            "Bag          4.991430e-04  7.080266e-10\n",
            "Ankle boot   2.729684e-06  1.028918e-12\n",
            "99.03388619422913\n",
            "are max index the same (False, ', higher than foolng rte', True)\n",
            "is the adverse Image foolwortgy:  False\n"
          ],
          "name": "stdout"
        },
        {
          "output_type": "display_data",
          "data": {
            "image/png": "[encoded data removed]",
            "text/plain": [
              "<Figure size 432x288 with 1 Axes>"
            ]
          },
          "metadata": {
            "tags": [],
            "needs_background": "light"
          }
        },
        {
          "output_type": "display_data",
          "data": {
            "image/png": "[encoded data removed]",
            "text/plain": [
              "<Figure size 432x288 with 1 Axes>"
            ]
          },
          "metadata": {
            "tags": [],
            "needs_background": "light"
          }
        }
      ]
    },
    {
      "cell_type": "markdown",
      "metadata": {
        "id": "gbFautFdXu4O"
      },
      "source": [
        "# Debugging errors"
      ]
    },
    {
      "cell_type": "code",
      "metadata": {
        "id": "xnjcOzyyZWvQ",
        "outputId": "74a13ebe-5d28-4b3f-c95f-ebfcb64b3b12",
        "colab": {
          "base_uri": "https://localhost:8080/",
          "height": 35
        }
      },
      "source": [
        "old_images = conv_test_images\n",
        "# for x in conv_test_images:\n",
        "#     # image = x\n",
        "#     # image = image + universal\n",
        "#     # show_convoluted_image(image, original_label[0], np.argmax(prediction_old))\n",
        "#     x = x + universal\n",
        "#     # show_convoluted_image(x, original_label[0], np.argmax(prediction_old))\n",
        "loops = 10000\n",
        "fooled = 0\n",
        "pbar = tqdm(total=loops)\n",
        "for x in range(loops):\n",
        "    original_image = conv_test_images[x] + universal\n",
        "    old_image = old_images[x]\n",
        "\n",
        "    original_image = tf.convert_to_tensor(original_image.reshape((28,28,1))) #The .reshape just gives it the proper form to input into the model, a batch of 1 a.k.a a tensor\n",
        "    original_image = np.expand_dims(original_image, axis=0)\n",
        "\n",
        "    old_image = tf.convert_to_tensor(old_image.reshape((28,28,1))) #The .reshape just gives it the proper form to input into the model, a batch of 1 a.k.a a tensor\n",
        "    old_image = np.expand_dims(old_image, axis=0)\n",
        "\n",
        "    new_predict = new_model.predict(original_image)\n",
        "    old_predict = new_model.predict(old_image)\n",
        "    # print(np.argmax(old_predict), np.argmax(new_predict))\n",
        "    # show_convoluted_image(original_image, original_label[0], np.argmax(prediction_old))\n",
        "    # show_convoluted_image(old_image, original_label[0], np.argmax(prediction_old))\n",
        "    if np.argmax(old_predict) != np.argmax(new_predict):\n",
        "        fooled+= 1\n",
        "        # print(\"fooled\",fooled)\n",
        "    pbar.update(1)\n",
        "\n",
        "\n",
        "test_loss, test_acc = new_model.evaluate(conv_test_images,  test_labels, verbose=1)\n",
        "pbar.close()\n",
        "# show_convoluted_image(noise[60], original_label[0], np.argmax(prediction_old))\n",
        "# show_convoluted_image(test_images[34], original_label[0], np.argmax(prediction_old))\n",
        "print(test_loss, test_acc)\n",
        "print(\"fooled: \",fooled)\n",
        "\n"
      ],
      "execution_count": null,
      "outputs": [
        {
          "output_type": "display_data",
          "data": {
            "text/html": [
              "<div style=\"display:flex;flex-direction:row;\"><span></span><progress style='margin:2px 4px;' max='10000' value='2376'></progress> 24% 2376/10000 [03:55&lt;13:03,  9.73it/s]</div>"
            ],
            "text/plain": [
              "<tqdm._fake_ipywidgets.HBox object>"
            ]
          },
          "metadata": {
            "tags": []
          }
        }
      ]
    },
    {
      "cell_type": "code",
      "metadata": {
        "id": "JusoumxLWhVQ"
      },
      "source": [
        "from __future__ import print_function\n",
        "\n",
        "def valid_imshow_data(data):\n",
        "    data = np.asarray(data)\n",
        "    if data.ndim == 2:\n",
        "        return True\n",
        "    elif data.ndim == 3:\n",
        "        if 3 <= data.shape[2] <= 4:\n",
        "            return True\n",
        "        else:\n",
        "            print('The \"data\" has 3 dimensions but the last dimension '\n",
        "                  'must have a length of 3 (RGB) or 4 (RGBA), not \"{}\".'\n",
        "                  ''.format(data.shape[2]))\n",
        "            return False\n",
        "    else:\n",
        "        print('To visualize an image the data must be 2 dimensional or '\n",
        "              '3 dimensional, not \"{}\".'\n",
        "              ''.format(data.ndim))\n",
        "        return False\n",
        "\n",
        "valid_imshow_data(conv_test_images[3])\n"
      ],
      "execution_count": null,
      "outputs": []
    },
    {
      "cell_type": "markdown",
      "metadata": {
        "id": "Cxz0v3bcX7AD"
      },
      "source": [
        "If the code above returns false then there is something likely wrong with the image data "
      ]
    }
  ]
}