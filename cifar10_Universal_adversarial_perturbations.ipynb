{
  "nbformat": 4,
  "nbformat_minor": 0,
  "metadata": {
    "colab": {
      "name": "cifar10_Universal_adversarial_perturbations.ipynb",
      "provenance": [],
      "collapsed_sections": [],
      "toc_visible": true,
      "authorship_tag": "ABX9TyORqT1wS1MuFVKZQUw5m0Ki",
      "include_colab_link": true
    },
    "kernelspec": {
      "name": "python3",
      "display_name": "Python 3"
    }
  },
  "cells": [
    {
      "cell_type": "markdown",
      "metadata": {
        "id": "view-in-github",
        "colab_type": "text"
      },
      "source": [
        "<a href=\"https://colab.research.google.com/github/samade123/deep_learning_project/blob/main/cifar10_Universal_adversarial_perturbations.ipynb\" target=\"_parent\"><img src=\"https://colab.research.google.com/assets/colab-badge.svg\" alt=\"Open In Colab\"/></a>"
      ]
    },
    {
      "cell_type": "code",
      "metadata": {
        "id": "y8t_EdO8jEHz",
        "colab": {
          "base_uri": "https://localhost:8080/",
          "height": 798
        },
        "outputId": "cce8430b-8322-4352-88cb-0c1a2ff17356"
      },
      "source": [
        "!pip install git+https://github.com/tensorflow/cleverhans.git#egg=cleverhans\n",
        "# !pip install progress\n",
        "# load tqdm\n",
        "!pip install --force https://github.com/chengs/tqdm/archive/colab.zip\n",
        "\n",
        "%tensorflow_version 2.x  # this line is not required unless you are in a notebook\n",
        "# TensorFlow and tf.keras\n",
        "import tensorflow as tf\n",
        "from tensorflow import keras\n",
        "import cleverhans\n",
        "keras.__version__\n",
        "# Helper libraries\n",
        "import numpy as np\n",
        "import matplotlib.pyplot as plt\n",
        "import pandas\n",
        "# from progress.bar import Bar\n",
        "from tqdm import tqdm_notebook as tqdm\n",
        "\n",
        "\n",
        "print(\"\\nTensorflow Version: \" + tf.__version__)\n",
        "print(\"Cleverhans Version: \" + cleverhans.__version__)\n",
        "print(\"GPU Available: \", tf.test.is_gpu_available())"
      ],
      "execution_count": null,
      "outputs": [
        {
          "output_type": "stream",
          "text": [
            "Requirement already satisfied: cleverhans from git+https://github.com/tensorflow/cleverhans.git#egg=cleverhans in /usr/local/lib/python3.7/dist-packages (4.0.0)\n",
            "Requirement already satisfied: easydict in /usr/local/lib/python3.7/dist-packages (from cleverhans) (1.9)\n",
            "Requirement already satisfied: six in /usr/local/lib/python3.7/dist-packages (from cleverhans) (1.15.0)\n",
            "Requirement already satisfied: nose in /usr/local/lib/python3.7/dist-packages (from cleverhans) (1.3.7)\n",
            "Requirement already satisfied: pycodestyle in /usr/local/lib/python3.7/dist-packages (from cleverhans) (2.7.0)\n",
            "Requirement already satisfied: tensorflow-probability in /usr/local/lib/python3.7/dist-packages (from cleverhans) (0.12.1)\n",
            "Requirement already satisfied: absl-py in /usr/local/lib/python3.7/dist-packages (from cleverhans) (0.12.0)\n",
            "Requirement already satisfied: mnist in /usr/local/lib/python3.7/dist-packages (from cleverhans) (0.2.2)\n",
            "Requirement already satisfied: matplotlib in /usr/local/lib/python3.7/dist-packages (from cleverhans) (3.2.2)\n",
            "Requirement already satisfied: joblib in /usr/local/lib/python3.7/dist-packages (from cleverhans) (1.0.1)\n",
            "Requirement already satisfied: numpy in /usr/local/lib/python3.7/dist-packages (from cleverhans) (1.19.5)\n",
            "Requirement already satisfied: scipy in /usr/local/lib/python3.7/dist-packages (from cleverhans) (1.4.1)\n",
            "Requirement already satisfied: dm-tree in /usr/local/lib/python3.7/dist-packages (from tensorflow-probability->cleverhans) (0.1.6)\n",
            "Requirement already satisfied: decorator in /usr/local/lib/python3.7/dist-packages (from tensorflow-probability->cleverhans) (4.4.2)\n",
            "Requirement already satisfied: cloudpickle>=1.3 in /usr/local/lib/python3.7/dist-packages (from tensorflow-probability->cleverhans) (1.3.0)\n",
            "Requirement already satisfied: gast>=0.3.2 in /usr/local/lib/python3.7/dist-packages (from tensorflow-probability->cleverhans) (0.3.3)\n",
            "Requirement already satisfied: kiwisolver>=1.0.1 in /usr/local/lib/python3.7/dist-packages (from matplotlib->cleverhans) (1.3.1)\n",
            "Requirement already satisfied: cycler>=0.10 in /usr/local/lib/python3.7/dist-packages (from matplotlib->cleverhans) (0.10.0)\n",
            "Requirement already satisfied: pyparsing!=2.0.4,!=2.1.2,!=2.1.6,>=2.0.1 in /usr/local/lib/python3.7/dist-packages (from matplotlib->cleverhans) (2.4.7)\n",
            "Requirement already satisfied: python-dateutil>=2.1 in /usr/local/lib/python3.7/dist-packages (from matplotlib->cleverhans) (2.8.1)\n",
            "Collecting https://github.com/chengs/tqdm/archive/colab.zip\n",
            "  Using cached https://github.com/chengs/tqdm/archive/colab.zip\n",
            "Building wheels for collected packages: tqdm\n",
            "  Building wheel for tqdm (setup.py) ... \u001b[?25l\u001b[?25hdone\n",
            "  Created wheel for tqdm: filename=tqdm-4.28.1-py2.py3-none-any.whl size=47868 sha256=dc72748ce433161cd1a55cc8f69b58da47e05084e9e9a687974257cbc67b0dbf\n",
            "  Stored in directory: /tmp/pip-ephem-wheel-cache-tv0s_dpg/wheels/41/18/ee/d5dd158441b27965855b1bbae03fa2d8a91fe645c01b419896\n",
            "Successfully built tqdm\n",
            "\u001b[31mERROR: spacy 2.2.4 has requirement tqdm<5.0.0,>=4.38.0, but you'll have tqdm 4.28.1 which is incompatible.\u001b[0m\n",
            "\u001b[31mERROR: fbprophet 0.7.1 has requirement tqdm>=4.36.1, but you'll have tqdm 4.28.1 which is incompatible.\u001b[0m\n",
            "Installing collected packages: tqdm\n",
            "  Found existing installation: tqdm 4.28.1\n",
            "    Uninstalling tqdm-4.28.1:\n",
            "      Successfully uninstalled tqdm-4.28.1\n",
            "Successfully installed tqdm-4.28.1\n"
          ],
          "name": "stdout"
        },
        {
          "output_type": "display_data",
          "data": {
            "application/vnd.colab-display-data+json": {
              "pip_warning": {
                "packages": [
                  "tqdm"
                ]
              }
            }
          },
          "metadata": {
            "tags": []
          }
        },
        {
          "output_type": "stream",
          "text": [
            "`%tensorflow_version` only switches the major version: 1.x or 2.x.\n",
            "You set: `2.x  # this line is not required unless you are in a notebook`. This will be interpreted as: `2.x`.\n",
            "\n",
            "\n",
            "TensorFlow is already loaded. Please restart the runtime to change versions.\n",
            "\n",
            "Tensorflow Version: 2.4.1\n",
            "Cleverhans Version: 4.0.0-dda3ed9309fe3cd6d5b746c5c9c440d8\n",
            "GPU Available:  False\n"
          ],
          "name": "stdout"
        }
      ]
    },
    {
      "cell_type": "code",
      "metadata": {
        "id": "5NDMO_7kS6Do"
      },
      "source": [
        "# Recreate the exact same model, including its weights and the optimizer\n",
        "new_model = tf.keras.models.load_model('cifar_2.h5')\n",
        "\n",
        "# Show the model architecture\n",
        "# new_model.summary()"
      ],
      "execution_count": null,
      "outputs": []
    },
    {
      "cell_type": "code",
      "metadata": {
        "id": "JWoEqyMuXFF4",
        "colab": {
          "base_uri": "https://localhost:8080/"
        },
        "outputId": "4a995d7b-8c7f-4349-86d8-15944b977871"
      },
      "source": [
        "(train_images, train_labels), (test_images, test_labels) = tf.keras.datasets.cifar10.load_data()\n",
        "\n",
        "# Normalize pixel values to be between 0 and 1\n",
        "train_images, test_images = train_images / 255.0, test_images / 255.0\n",
        "\n",
        "class_names = ['airplane', 'automobile', 'bird', 'cat', 'deer',\n",
        "               'dog', 'frog', 'horse', 'ship', 'truck']"
      ],
      "execution_count": null,
      "outputs": [
        {
          "output_type": "stream",
          "text": [
            "Downloading data from https://www.cs.toronto.edu/~kriz/cifar-10-python.tar.gz\n",
            "170500096/170498071 [==============================] - 2s 0us/step\n"
          ],
          "name": "stdout"
        }
      ]
    },
    {
      "cell_type": "code",
      "metadata": {
        "id": "3cV_tavxwOR6"
      },
      "source": [
        "\n",
        "def show_image(img, label=\"\", guess=\"\"):\n",
        "  plt.figure()\n",
        "  plt.imshow(img, cmap=plt.cm.binary)\n",
        "  plt.title(\"Expected: \" + label)\n",
        "  plt.xlabel(\"Guess: \" + guess)\n",
        "  plt.colorbar()\n",
        "  plt.grid(False)\n",
        "  plt.show()\n",
        "\n",
        "def predict(model, image, correct_label, num):\n",
        "#   class_names = ['T-shirt/top', 'Trouser', 'Pullover', 'Dress', 'Coat',\n",
        "#                'Sandal', 'Shirt', 'Sneaker', 'Bag', 'Ankle boot']\n",
        "  prediction = model.predict(np.array([image]))\n",
        "  predicted_class = class_names[np.argmax(prediction)]\n",
        "\n",
        "#   print(prediction, predicted_class)\n",
        "  image = test_images[num]\n",
        "  show_image(image, class_names[correct_label], predicted_class)\n",
        "\n",
        "\n",
        "def get_number():\n",
        "  while True:\n",
        "    num = input(\"Pick a number: \")\n",
        "    if num.isdigit():\n",
        "      num = int(num)\n",
        "      if 0 <= num <= 1000:\n",
        "        return int(num)\n",
        "    else:\n",
        "      print(\"Try again...\")\n",
        "\n",
        "def     select_number(num=0):\n",
        "    return_val = False\n",
        "    if num == 0:\n",
        "        num = get_number()\n",
        "        return_val = True\n",
        "    image = test_images[num]\n",
        "    label = test_labels[num]\n",
        "    predict(new_model, image, label, num)\n",
        "    if return_val:\n",
        "        return num\n",
        "\n",
        "def show_convoluted_image(original_image, original_label, guess):\n",
        "    #Show the image\n",
        "    plt.figure()\n",
        "    plt.grid(False)\n",
        "    original_label = class_names[original_label]\n",
        "    guess = class_names[guess]\n",
        "\n",
        "    plt.imshow(np.reshape(original_image, (32,32, 3)))\n",
        "    plt.title(\"Model Prediction: {}\".format(guess))\n",
        "    plt.xlabel(\"Original Label: {}\".format(original_label))\n",
        "\n",
        "\n",
        "    plt.show()        "
      ],
      "execution_count": null,
      "outputs": []
    },
    {
      "cell_type": "code",
      "metadata": {
        "id": "MEY-8X34OdM5"
      },
      "source": [
        "# select_number()"
      ],
      "execution_count": null,
      "outputs": []
    },
    {
      "cell_type": "markdown",
      "metadata": {
        "id": "8_Ehc7tas5YS"
      },
      "source": [
        "#Part 2: The Fast Gradient Method (FGM)"
      ]
    },
    {
      "cell_type": "code",
      "metadata": {
        "id": "LgZhvgzbAuU8"
      },
      "source": [
        "# Import the attack\n",
        "from cleverhans.tf2.attacks.fast_gradient_method import fast_gradient_method\n",
        "\n",
        "#The attack requires the model to ouput the logits\n",
        "logits_model = tf.keras.Model(new_model.input,new_model.layers[-1].output)"
      ],
      "execution_count": null,
      "outputs": []
    },
    {
      "cell_type": "code",
      "metadata": {
        "id": "giyjFKREs-nx"
      },
      "source": [
        "def fsgm(index, original_image,  epsilon = 0.03, verbose_log = False):\n",
        "    # original_image = conv_train_images[index]\n",
        "    original_image = tf.convert_to_tensor(original_image.reshape((32,32,3))) #The .reshape just gives it the proper form to input into the model, a batch of 1 a.k.a a tensor\n",
        "    original_image = np.expand_dims(original_image, axis=0)\n",
        "\n",
        "    original_label = train_labels[index]\n",
        "    original_label = np.reshape(original_label, (1,)).astype('int64') # Give label proper shape and type for cleverhans\n",
        "    if verbose_log == True:\n",
        "        select_number(index)\n",
        "        show_convoluted_image(original_image, original_label[0], original_label[0])\n",
        "    \n",
        "\n",
        "    adv_example_untargeted_label = fast_gradient_method(logits_model, original_image, epsilon, np.inf, targeted=False)\n",
        "\n",
        "    adv_example_untargeted_label_pred = new_model.predict(adv_example_untargeted_label)\n",
        "\n",
        "    return adv_example_untargeted_label, adv_example_untargeted_label_pred\n",
        "\n",
        "def get_pertubation(original_image, adv_example_untargeted_label):\n",
        "    pertubation = original_image - adv_example_untargeted_label\n",
        "    return pertubation\n",
        "\n",
        "def get_max_prediction(model_predicition):\n",
        "    return model_predicition[0][np.argmax(model_predicition)]   \n",
        "\n",
        "def is_new_iamge_fooled(adv_prediction, prediction_old, fooling_rate, verbose_log = False):\n",
        "    if verbose_log == True:\n",
        "        print(\"fooling_rate\", fooling_rate)\n",
        "        print(\"fooling_rate\", prediction_old)\n",
        "        print(\"adverse Image prediction: \" , np.argmax(adv_prediction) , \"val: \", np.max(adv_prediction)  ,\", origiinal Image prediction: \", np.argmax(prediction_old), \"val: \", np.max(prediction_old),  \", prediction accuracy greater than fooling rate: \", get_max_prediction(adv_prediction) > fooling_rate )\n",
        "        # class_names = ['T-shirt/top', 'Trouser', 'Pullover', 'Dress', 'Coat',\n",
        "        #        'Sandal', 'Shirt', 'Sneaker', 'Bag', 'Ankle boot']\n",
        "        # table = pandas.DataFrame(adv_prediction.transpose(), class_names, ['old'])\n",
        "        # prediction_old = new_model.predict(original_image)\n",
        "        new_data = np.concatenate((adv_prediction, prediction_old))\n",
        "        table = pandas.DataFrame(new_data.transpose(), class_names, ['new', 'old'])\n",
        "        print(table)\n",
        "        print(np.max(adv_prediction/np.sum(adv_prediction))*100)\n",
        "        print(\"are max index the same\", (np.argmax(adv_prediction) != np.argmax(prediction_old), \", higher than foolng rte\", get_max_prediction(adv_prediction) > fooling_rate ))\n",
        "        print(\"is the adverse Image foolwortgy: \", (np.argmax(adv_prediction) != np.argmax(prediction_old)) and (get_max_prediction(adv_prediction) > fooling_rate ))\n",
        "        table.to_csv('data.csv')\n",
        "    return ((np.argmax(adv_prediction) != np.argmax(prediction_old)) and (get_max_prediction(adv_prediction) > fooling_rate ))  \n",
        "\n",
        "def minimum_fsgm(fooling_rate, original_image, random_index, verbose_log=False):\n",
        "    prediction_old = new_model.predict(original_image)\n",
        "\n",
        "    a_adv_pred = prediction_old\n",
        "    x_adv = original_image\n",
        "    # x_adv, a_adv_pred = fsgm(random_index)\n",
        "    itr = 2\n",
        "    max_attempts = 20\n",
        "    epislon_steps = 0.01\n",
        "    # current_fooling_rate = 0\n",
        "    # while \n",
        "\n",
        "    # if first_image == True:\n",
        "        # while ((np.argmax(a_adv_pred) == np.argmax(prediction_old)) or (get_max_prediction(a_adv_pred) < fooling_rate )):\n",
        "    status = True\n",
        "    if verbose_log:\n",
        "        print(\"does while statement run\", is_new_iamge_fooled(a_adv_pred, prediction_old, fooling_rate, False))\n",
        "    while is_new_iamge_fooled(a_adv_pred, prediction_old, fooling_rate, False) == False:\n",
        "        itr+= 1\n",
        "        if verbose_log:\n",
        "            print(itr , epislon_steps*itr, is_new_iamge_fooled(a_adv_pred, prediction_old, fooling_rate))\n",
        "        x_adv, a_adv_pred = fsgm(random_index, original_image, epislon_steps*itr)\n",
        "        if itr > max_attempts: \n",
        "            status = False\n",
        "            break\n",
        "\n",
        "    pertubation = get_pertubation(original_image, x_adv)\n",
        "    return pertubation, status\n",
        "\n",
        "\n",
        "def create_universerial_pertubations(loops = 10, fooling_rate=0.5, verbose_log =False):\n",
        "    image_index = 0\n",
        "    # fooling_rate = 0.9\n",
        "    pbar = tqdm(total=loops)\n",
        "\n",
        "    while image_index < loops:\n",
        "        random_index = np.random.randint(train_images.shape[0])\n",
        "        original_image = train_images[random_index]\n",
        "        original_image = tf.convert_to_tensor(original_image.reshape((32,32,3))) #The .reshape just gives it the proper form to input into the model, a batch of 1 a.k.a a tensor\n",
        "        original_image = np.expand_dims(original_image, axis=0)\n",
        "\n",
        "        original_label = train_labels[train_labels[random_index][0]]\n",
        "        original_label = np.reshape(original_label, (1,)).astype('int64') # Give label proper shape and type for cleverhans\n",
        "        # original_label = class_names[train_labels[random_index][0]]\n",
        "\n",
        "\n",
        "        prediction_old = new_model.predict(original_image)\n",
        "        # print(\"first_image\")\n",
        "        first_image = (image_index == 0)\n",
        "        # current_pertubation = minimum_fsgm(fooling_rate, first_image)\n",
        "        if first_image == True:\n",
        "            current_pertubation, status = minimum_fsgm(fooling_rate, original_image, random_index) #fix minimum fgsm function\n",
        "            show_convoluted_image(current_pertubation, original_label[0], original_label[0])\n",
        "\n",
        "            universal_pertubation = current_pertubation\n",
        "        else:\n",
        "            pertubated_img = original_image + universal_pertubation\n",
        "            prediction_old = new_model.predict(original_image)\n",
        "            predicion_pertubated = new_model.predict(pertubated_img)\n",
        "            if is_new_iamge_fooled(predicion_pertubated, prediction_old, fooling_rate, verbose_log):\n",
        "                # image_index+= 1\n",
        "                if verbose_log:\n",
        "                    print(\"image is fooled\", image_index)\n",
        "                # loops+= 1\n",
        "                \n",
        "            else: \n",
        "                current_pertubation, status = minimum_fsgm(fooling_rate, original_image, random_index)\n",
        "                if verbose_log:\n",
        "                    print(\"image is being pertubated\", image_index)\n",
        "\n",
        "                # attempt 1 - queit but not adverserial\n",
        "                # difference_pert =universal_pertubation - current_pertubation\n",
        "                # universal_pertubation = difference_pert - universal_pertubation\n",
        "\n",
        "                # attempt 2 - works but the pertubation is not qiuet\n",
        "                # difference_pert = np.abs(current_pertubation - universal_pertubation)\n",
        "                # universal_pertubation = universal_pertubation + difference_pert\n",
        "\n",
        "                # attempt 3 - works but the pertubation is not qiuet\n",
        "                # difference_pert = np.abs(universal_pertubation - current_pertubation)\n",
        "                # universal_pertubation = universal_pertubation + difference_pert\n",
        "\n",
        "                # difference_pert =  current_pertubation - universal_pertubation\n",
        "                # universal_pertubation = universal_pertubation + difference_pert\n",
        "\n",
        "                # attempt 4 - not yet tested\n",
        "                # difference_pert = np.abs(universal_pertubation - current_pertubation)\n",
        "                # universal_pertubation = np.abs(difference_pert - universal_pertubation)\n",
        "\n",
        "                 # attempt 4 - not yet tested\n",
        "                # difference_pert = universal_pertubation - current_pertubation\n",
        "                # universal_pertubation = np.abs(universal_pertubation - difference_pert)\n",
        "\n",
        "                # universal_pertubation = universal_pertubation + current_pertubation\n",
        "               \n",
        "                universal_pertubation =np.abs(universal_pertubation - current_pertubation)\n",
        "\n",
        "                # universal_pertubation =np.abs(current_pertubation - universal_pertubation)\n",
        "\n",
        "                if verbose_log:\n",
        "                    show_convoluted_image(difference_pert, original_label[0], original_label[0])\n",
        "                    show_convoluted_image(current_pertubation, original_label[0], original_label[0])\n",
        "                    show_convoluted_image(universal_pertubation, original_label[0], original_label[0])\n",
        "\n",
        "                # image_index+= 1\n",
        "\n",
        "\n",
        "        if status == True:\n",
        "            image_index+= 1\n",
        "            pbar.update(1)\n",
        "    pbar.close()\n",
        "    return universal_pertubation"
      ],
      "execution_count": null,
      "outputs": []
    },
    {
      "cell_type": "code",
      "metadata": {
        "id": "wA7_JKrm1wsm",
        "colab": {
          "base_uri": "https://localhost:8080/",
          "height": 295
        },
        "outputId": "cad4668b-2536-489e-e51f-8d07a101d328"
      },
      "source": [
        "random_index = np.random.randint(train_images.shape[0])\n",
        "\n",
        "original_image = train_images[random_index]\n",
        "original_image = tf.convert_to_tensor(original_image.reshape((32,32,3))) #The .reshape just gives it the proper form to input into the model, a batch of 1 a.k.a a tensor\n",
        "original_image = np.expand_dims(original_image, axis=0)\n",
        "\n",
        "original_label = train_labels[random_index]\n",
        "original_label = np.reshape(original_label, (1,)).astype('int64') # Give label proper shape and type for cleverhans\n",
        "\n",
        "# #Show the image\n",
        "# plt.figure()\n",
        "# plt.grid(False)\n",
        "\n",
        "# plt.imshow(np.reshape(original_image, (28,28)))\n",
        "# plt.title(\"Label: {}\".format(original_label[0]))\n",
        "\n",
        "# plt.show()\n",
        "# select_number(random_index)\n",
        "show_convoluted_image(original_image, original_label[0], original_label[0])"
      ],
      "execution_count": null,
      "outputs": [
        {
          "output_type": "display_data",
          "data": {
            "image/png": "[encoded data removed]",
            "text/plain": [
              "<Figure size 432x288 with 1 Axes>"
            ]
          },
          "metadata": {
            "tags": [],
            "needs_background": "light"
          }
        }
      ]
    },
    {
      "cell_type": "markdown",
      "metadata": {
        "id": "rz8QBZJ2-DO5"
      },
      "source": [
        "### Non-targeted FGSM attack\n"
      ]
    },
    {
      "cell_type": "code",
      "metadata": {
        "id": "6LSemuYWrZWz",
        "colab": {
          "base_uri": "https://localhost:8080/",
          "height": 311
        },
        "outputId": "d6abe13a-848f-4387-d259-0bea52b16b74"
      },
      "source": [
        "epsilon = 0.01\n",
        "\n",
        "adv_example_untargeted_label = fast_gradient_method(logits_model, original_image, epsilon, np.inf, targeted=False)\n",
        "\n",
        "adv_example_untargeted_label_pred = new_model.predict(adv_example_untargeted_label)\n",
        "\n",
        "# #Show the image\n",
        "# plt.figure()\n",
        "# plt.grid(False)\n",
        "\n",
        "# plt.imshow(np.reshape(adv_example_untargeted_label, (28,28)))\n",
        "# plt.title(\"Model Prediction: {}\".format(np.argmax(adv_example_untargeted_label_pred)))\n",
        "# plt.xlabel(\"Original Label: {}\".format(original_label[0]))\n",
        "\n",
        "# plt.show()\n",
        "# print(\"Prediction\", adv_example_untargeted_label_pred)\n",
        "show_convoluted_image(adv_example_untargeted_label, original_label[0], np.argmax(adv_example_untargeted_label_pred))"
      ],
      "execution_count": null,
      "outputs": [
        {
          "output_type": "stream",
          "text": [
            "Clipping input data to the valid range for imshow with RGB data ([0..1] for floats or [0..255] for integers).\n"
          ],
          "name": "stderr"
        },
        {
          "output_type": "display_data",
          "data": {
            "image/png": "[encoded data removed]",
            "text/plain": [
              "<Figure size 432x288 with 1 Axes>"
            ]
          },
          "metadata": {
            "tags": [],
            "needs_background": "light"
          }
        }
      ]
    },
    {
      "cell_type": "code",
      "metadata": {
        "colab": {
          "base_uri": "https://localhost:8080/",
          "height": 311
        },
        "id": "As2izllk0sIO",
        "outputId": "85602504-c43a-44ad-d5d6-847aeb737552"
      },
      "source": [
        "pertubation = original_image - adv_example_untargeted_label\n",
        "# #Show the image\n",
        "# plt.figure()\n",
        "# plt.grid(False)\n",
        "\n",
        "# plt.imshow(np.reshape(pertubation, (28,28)))\n",
        "# plt.title(\"Model Prediction: {}\".format(np.argmax(adv_example_untargeted_label_pred)))\n",
        "# plt.xlabel(\"Original Label: {}\".format(original_label[0]))\n",
        "\n",
        "# plt.show()\n",
        "show_convoluted_image(pertubation, original_label[0], np.argmax(adv_example_untargeted_label_pred))\n"
      ],
      "execution_count": null,
      "outputs": [
        {
          "output_type": "stream",
          "text": [
            "Clipping input data to the valid range for imshow with RGB data ([0..1] for floats or [0..255] for integers).\n"
          ],
          "name": "stderr"
        },
        {
          "output_type": "display_data",
          "data": {
            "image/png": "[encoded data removed]",
            "text/plain": [
              "<Figure size 432x288 with 1 Axes>"
            ]
          },
          "metadata": {
            "tags": [],
            "needs_background": "light"
          }
        }
      ]
    },
    {
      "cell_type": "code",
      "metadata": {
        "id": "B00oKIK9gIF-"
      },
      "source": [
        "# is_new_iamge_fooled(adv_example_untargeted_label_pred, prediction_old, 0.6, True) "
      ],
      "execution_count": null,
      "outputs": []
    },
    {
      "cell_type": "code",
      "metadata": {
        "id": "3AitPJwZ4c6y",
        "colab": {
          "base_uri": "https://localhost:8080/",
          "height": 962
        },
        "outputId": "1cb7692f-708e-42b5-f513-e64a18551483"
      },
      "source": [
        " y, r = minimum_fsgm(0.6, original_image, random_index, True)\n",
        " print(r)\n",
        "\n",
        " pertubed = original_image + y\n",
        "show_convoluted_image(y, original_label[0], np.argmax(adv_example_untargeted_label_pred))\n",
        "show_convoluted_image(pertubed, original_label[0], np.argmax(adv_example_untargeted_label_pred))\n",
        "np.set_printoptions(formatter={'float_kind':'{:f}'.format})\n",
        "np.set_printoptions(suppress=True)\n",
        "pertubed_min_pred = new_model.predict(pertubed)\n",
        "prediction_old = new_model.predict(original_image)\n",
        "\n",
        "is_new_iamge_fooled(pertubed_min_pred, prediction_old, 0.4, True) \n",
        "# show_convoluted_image(y, original_label[0], np.argmax(adv_example_untargeted_label_pred))\n"
      ],
      "execution_count": null,
      "outputs": [
        {
          "output_type": "stream",
          "text": [
            "Clipping input data to the valid range for imshow with RGB data ([0..1] for floats or [0..255] for integers).\n"
          ],
          "name": "stderr"
        },
        {
          "output_type": "stream",
          "text": [
            "does while statement run False\n",
            "3 0.03 False\n",
            "True\n"
          ],
          "name": "stdout"
        },
        {
          "output_type": "display_data",
          "data": {
            "image/png": "[encoded data removed]",
            "text/plain": [
              "<Figure size 432x288 with 1 Axes>"
            ]
          },
          "metadata": {
            "tags": [],
            "needs_background": "light"
          }
        },
        {
          "output_type": "stream",
          "text": [
            "Clipping input data to the valid range for imshow with RGB data ([0..1] for floats or [0..255] for integers).\n"
          ],
          "name": "stderr"
        },
        {
          "output_type": "display_data",
          "data": {
            "image/png": "[encoded data removed]",
            "text/plain": [
              "<Figure size 432x288 with 1 Axes>"
            ]
          },
          "metadata": {
            "tags": [],
            "needs_background": "light"
          }
        },
        {
          "output_type": "stream",
          "text": [
            "fooling_rate 0.4\n",
            "fooling_rate [[0.00001299 0.00000933 0.00316391 0.01703677 0.00293586 0.01473698\n",
            "  0.00035485 0.9615193  0.00000151 0.00022848]]\n",
            "adverse Image prediction:  7 val:  0.9999949 , origiinal Image prediction:  7 val:  0.9615193 , prediction accuracy greater than fooling rate:  True\n",
            "                     new       old\n",
            "airplane    1.720781e-08  0.000013\n",
            "automobile  3.130729e-09  0.000009\n",
            "bird        9.864884e-07  0.003164\n",
            "cat         1.290648e-06  0.017037\n",
            "deer        1.325042e-06  0.002936\n",
            "dog         8.702609e-07  0.014737\n",
            "frog        1.783499e-07  0.000355\n",
            "horse       9.999949e-01  0.961519\n",
            "ship        3.499299e-10  0.000002\n",
            "truck       4.533138e-07  0.000228\n",
            "99.99948740005493\n",
            "are max index the same (False, ', higher than foolng rte', True)\n",
            "is the adverse Image foolwortgy:  False\n"
          ],
          "name": "stdout"
        },
        {
          "output_type": "execute_result",
          "data": {
            "text/plain": [
              "False"
            ]
          },
          "metadata": {
            "tags": []
          },
          "execution_count": 14
        }
      ]
    },
    {
      "cell_type": "code",
      "metadata": {
        "colab": {
          "base_uri": "https://localhost:8080/",
          "height": 676
        },
        "id": "C6cLe7F7C5yi",
        "outputId": "26e8691d-e32e-427d-a7f8-e6fadfb6bfc3"
      },
      "source": [
        "universal = create_universerial_pertubations(50, 0.1, False)\n",
        "show_convoluted_image(universal, original_label[0], original_label[0])\n"
      ],
      "execution_count": null,
      "outputs": [
        {
          "output_type": "stream",
          "text": [
            "/usr/local/lib/python3.7/dist-packages/tqdm/_tqdm_notebook.py:88: TqdmExperimentalWarning: Detect Google Colab 0.0.1a2 and thus load dummy ipywidgets package. Note that UI is different from that in Jupyter. See https://github.com/tqdm/tqdm/pull/640\n",
            "  \" See https://github.com/tqdm/tqdm/pull/640\".format(colab.__version__), TqdmExperimentalWarning)\n"
          ],
          "name": "stderr"
        },
        {
          "output_type": "display_data",
          "data": {
            "text/html": [
              "<div style=\"display:flex;flex-direction:row;\"><span></span><progress style='margin:2px 4px;' max='50' value='50'></progress>100% 50/50 [00:10&lt;00:00,  4.92it/s]</div>"
            ],
            "text/plain": [
              "<tqdm._fake_ipywidgets.HBox object>"
            ]
          },
          "metadata": {
            "tags": []
          }
        },
        {
          "output_type": "stream",
          "text": [
            "Clipping input data to the valid range for imshow with RGB data ([0..1] for floats or [0..255] for integers).\n"
          ],
          "name": "stderr"
        },
        {
          "output_type": "display_data",
          "data": {
            "image/png": "[encoded data removed]",
            "text/plain": [
              "<Figure size 432x288 with 1 Axes>"
            ]
          },
          "metadata": {
            "tags": [],
            "needs_background": "light"
          }
        },
        {
          "output_type": "stream",
          "text": [
            "\n"
          ],
          "name": "stdout"
        },
        {
          "output_type": "display_data",
          "data": {
            "image/png": "[encoded data removed]",
            "text/plain": [
              "<Figure size 432x288 with 1 Axes>"
            ]
          },
          "metadata": {
            "tags": [],
            "needs_background": "light"
          }
        }
      ]
    },
    {
      "cell_type": "code",
      "metadata": {
        "colab": {
          "base_uri": "https://localhost:8080/",
          "height": 897
        },
        "id": "GsbWz087FlqZ",
        "outputId": "ff6a8f66-1b3c-480e-b96e-7472c08a46f3"
      },
      "source": [
        "def test_universal(universal):\n",
        "    random_index = np.random.randint(test_images.shape[0])\n",
        "    original_image = test_images[random_index]\n",
        "    original_image = tf.convert_to_tensor(original_image.reshape((32,32,3))) #The .reshape just gives it the proper form to input into the model, a batch of 1 a.k.a a tensor\n",
        "    original_image = np.expand_dims(original_image, axis=0)\n",
        "    original_label = test_labels[random_index]\n",
        "    original_label = np.reshape(original_label, (1,)).astype('int64') # Give label proper shape and type for cleverhans\n",
        "    print(original_label)\n",
        "\n",
        "    new_image = original_image + universal\n",
        "\n",
        "    prediction_old = new_model.predict(original_image)\n",
        "    prediction_new = new_model.predict(new_image)\n",
        "\n",
        "    is_new_iamge_fooled(prediction_new, prediction_old, 0.4, True)\n",
        "    show_convoluted_image(new_image, original_label[0], np.argmax(prediction_new))\n",
        "    show_convoluted_image(original_image, original_label[0], np.argmax(prediction_old))\n",
        "\n",
        "\n",
        "test_universal(universal)\n"
      ],
      "execution_count": null,
      "outputs": [
        {
          "output_type": "stream",
          "text": [
            "Clipping input data to the valid range for imshow with RGB data ([0..1] for floats or [0..255] for integers).\n"
          ],
          "name": "stderr"
        },
        {
          "output_type": "stream",
          "text": [
            "[2]\n",
            "fooling_rate 0.4\n",
            "fooling_rate [[0.01563624 0.00114282 0.43071178 0.2473858  0.00338125 0.03027977\n",
            "  0.04851937 0.19279629 0.02540275 0.00474389]]\n",
            "adverse Image prediction:  6 val:  0.8154465 , origiinal Image prediction:  2 val:  0.43071178 , prediction accuracy greater than fooling rate:  True\n",
            "                 new       old\n",
            "airplane    0.000045  0.015636\n",
            "automobile  0.000357  0.001143\n",
            "bird        0.116069  0.430712\n",
            "cat         0.023959  0.247386\n",
            "deer        0.023024  0.003381\n",
            "dog         0.001894  0.030280\n",
            "frog        0.815446  0.048519\n",
            "horse       0.004668  0.192796\n",
            "ship        0.001642  0.025403\n",
            "truck       0.012896  0.004744\n",
            "81.54466152191162\n",
            "are max index the same (True, ', higher than foolng rte', True)\n",
            "is the adverse Image foolwortgy:  True\n"
          ],
          "name": "stdout"
        },
        {
          "output_type": "display_data",
          "data": {
            "image/png": "[encoded data removed]",
            "text/plain": [
              "<Figure size 432x288 with 1 Axes>"
            ]
          },
          "metadata": {
            "tags": [],
            "needs_background": "light"
          }
        },
        {
          "output_type": "display_data",
          "data": {
            "image/png": "[encoded data removed]",
            "text/plain": [
              "<Figure size 432x288 with 1 Axes>"
            ]
          },
          "metadata": {
            "tags": [],
            "needs_background": "light"
          }
        }
      ]
    },
    {
      "cell_type": "markdown",
      "metadata": {
        "id": "gbFautFdXu4O"
      },
      "source": [
        "# Debugging errors"
      ]
    },
    {
      "cell_type": "code",
      "metadata": {
        "id": "JusoumxLWhVQ",
        "colab": {
          "base_uri": "https://localhost:8080/"
        },
        "outputId": "f4895cbb-2340-4c13-9a8f-ad2df7aa6e66"
      },
      "source": [
        "from __future__ import print_function\n",
        "\n",
        "def valid_imshow_data(data):\n",
        "    data = np.asarray(data)\n",
        "    if data.ndim == 2:\n",
        "        return True\n",
        "    elif data.ndim == 3:\n",
        "        if 3 <= data.shape[2] <= 4:\n",
        "            return True\n",
        "        else:\n",
        "            print('The \"data\" has 3 dimensions but the last dimension '\n",
        "                  'must have a length of 3 (RGB) or 4 (RGBA), not \"{}\".'\n",
        "                  ''.format(data.shape[2]))\n",
        "            return False\n",
        "    else:\n",
        "        print('To visualize an image the data must be 2 dimensional or '\n",
        "              '3 dimensional, not \"{}\".'\n",
        "              ''.format(data.ndim))\n",
        "        return False\n",
        "\n",
        "valid_imshow_data(test_images[3])\n"
      ],
      "execution_count": null,
      "outputs": [
        {
          "output_type": "execute_result",
          "data": {
            "text/plain": [
              "True"
            ]
          },
          "metadata": {
            "tags": []
          },
          "execution_count": 17
        }
      ]
    },
    {
      "cell_type": "markdown",
      "metadata": {
        "id": "Cxz0v3bcX7AD"
      },
      "source": [
        "If the code above returns false then there is something likely wrong with the image data "
      ]
    }
  ]
}